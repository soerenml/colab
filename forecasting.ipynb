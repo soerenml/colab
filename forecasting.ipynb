{
  "nbformat": 4,
  "nbformat_minor": 0,
  "metadata": {
    "colab": {
      "name": "Forecasting.ipynb",
      "provenance": [],
      "collapsed_sections": [],
      "authorship_tag": "ABX9TyOT1fXFHtvXmJh0PRCLGnMQ",
      "include_colab_link": true
    },
    "kernelspec": {
      "name": "python3",
      "display_name": "Python 3"
    }
  },
  "cells": [
    {
      "cell_type": "markdown",
      "metadata": {
        "id": "view-in-github",
        "colab_type": "text"
      },
      "source": [
        "<a href=\"https://colab.research.google.com/github/soerenml/colab/blob/master/forecasting.ipynb\" target=\"_parent\"><img src=\"https://colab.research.google.com/assets/colab-badge.svg\" alt=\"Open In Colab\"/></a>"
      ]
    },
    {
      "cell_type": "markdown",
      "metadata": {
        "id": "wugAF_EP8F4J",
        "colab_type": "text"
      },
      "source": [
        "#Forecasting\n",
        "\n",
        "Great introduction to RNN/LSTM: [link](https://towardsdatascience.com/illustrated-guide-to-recurrent-neural-networks-79e5eb8049c9)\n",
        "\n",
        "The following text is a summary based on Géron (2019) pp. 497-524.\n",
        "\n",
        "### Formal description\n",
        "A RNN could be described as a reflexive system based on recurrent neurons:\n",
        "\n",
        "**x** describes a function's (**f()**) input vector while **y** describes the function's output. RNN are reflexive as they consume their previous output(s) (**x**<sub>t-1</sub>). Hence, output **y**<sub>t</sub> with with t = 2 would be a function of f(**x**<sub>t</sub> + **y**<sub>t-1</sub> + b) where **y**<sub>t-1</sub> = f(**x**<sub>t-1</sub>).\n",
        "\n",
        "Including weights (K as activation function) for t=2 : \n",
        "**y**<sub>t</sub> = K(**W**<sub>x</sub><sup>T</sup>**x**<sub>t</sub> +\n",
        "  **W**<sub>y</sub><sup>T</sup>**y**<sub>t-1</sub>+ **b**)\n",
        "\n",
        "The following graphs highlights the structure of such a neuron: in this case the neuron refeeds in itself several times (t=3). The cell's output at time(t) is described as **state**.\n",
        "\n",
        "![Source: Geron (2019)](https://www.oreilly.com/library/view/neural-networks-and/9781492037354/assets/mlst_1401.png)\n",
        "\n",
        "### Memory cells\n",
        "The reflixity shown above can also be interpreted as a form of memory: the neuron reminds itself of its previous states. \n",
        "\n",
        "### Input and output sequences\n",
        "\n",
        "The follwoing image shows different forms of input and output sequences (from the top left to the bottom right):\n",
        "\n",
        "+ Sequence to sequence\n",
        "+ Sequence to vector\n",
        "+ Vector to sequence\n",
        "+ Encoder decoder\n",
        "\n",
        "![Source: Geron (2019](https://www.oreilly.com/library/view/neural-networks-and/9781492037354/assets/mlst_1404.png)\n"
      ]
    },
    {
      "cell_type": "code",
      "metadata": {
        "id": "OjQLa-b7Pnjp",
        "colab_type": "code",
        "colab": {}
      },
      "source": [
        "import numpy as np\n",
        "import tensorflow as tf\n",
        "from tensorflow import keras\n",
        "import matplotlib.pyplot as plt\n",
        "import matplotlib as mpl\n",
        "import matplotlib.pyplot as plt"
      ],
      "execution_count": 0,
      "outputs": []
    },
    {
      "cell_type": "code",
      "metadata": {
        "id": "BJPs9VZLO-vX",
        "colab_type": "code",
        "colab": {}
      },
      "source": [
        "# Helper function for plotting\n",
        "mpl.rc('axes', labelsize=14)\n",
        "mpl.rc('xtick', labelsize=12)\n",
        "mpl.rc('ytick', labelsize=12)\n",
        "\n",
        "def plot_learning_curves(loss, val_loss):\n",
        "    plt.plot(np.arange(len(loss)) + 0.5, loss, \"b.-\", label=\"Training loss\")\n",
        "    plt.plot(np.arange(len(val_loss)) + 1, val_loss, \"r.-\", label=\"Validation loss\")\n",
        "    plt.gca().xaxis.set_major_locator(mpl.ticker.MaxNLocator(integer=True))\n",
        "    plt.axis([1, 20, 0, 0.05])\n",
        "    plt.legend(fontsize=14)\n",
        "    plt.xlabel(\"Epochs\")\n",
        "    plt.ylabel(\"Loss\")\n",
        "    plt.grid(True)\n",
        "\n",
        "def plot_series(series, y=None, y_pred=None, x_label=\"$t$\", y_label=\"$x(t)$\"):\n",
        "    plt.plot(series, \".-\")\n",
        "    if y is not None:\n",
        "        plt.plot(n_steps, y, \"bx\", markersize=10)\n",
        "    if y_pred is not None:\n",
        "        plt.plot(n_steps, y_pred, \"ro\")\n",
        "    plt.grid(True)\n",
        "    if x_label:\n",
        "        plt.xlabel(x_label, fontsize=16)\n",
        "    if y_label:\n",
        "        plt.ylabel(y_label, fontsize=16, rotation=0)\n",
        "    plt.hlines(0, 0, 100, linewidth=1)\n",
        "    plt.axis([0, n_steps + 1, -1, 1])"
      ],
      "execution_count": 0,
      "outputs": []
    },
    {
      "cell_type": "code",
      "metadata": {
        "id": "Ru7Fcrli8Fac",
        "colab_type": "code",
        "outputId": "680aff09-6a31-4c06-e60e-b1108926a8e3",
        "colab": {
          "base_uri": "https://localhost:8080/",
          "height": 1000
        }
      },
      "source": [
        "# Generate training data\n",
        "def generate_time_series(batch_size, n_steps):\n",
        "    freq1, freq2, offsets1, offsets2 = np.random.rand(4, batch_size, 1)\n",
        "    print(freq1)\n",
        "    time = np.linspace(0, 1, n_steps) # define the time marks  [start, delta between steps, stop]\n",
        "    series = 0.5 * np.sin((time - offsets1) * (freq1 * 10 + 10))  #   wave 1\n",
        "    series += 0.2 * np.sin((time - offsets2) * (freq2 * 20 + 20)) # + wave 2\n",
        "    series += 0.1 * (np.random.rand(batch_size, n_steps) - 0.5)   # + noise\n",
        "    return series[..., np.newaxis].astype(np.float32)\n",
        "\n",
        "# The data has the form [batch_size, time_steps, ]\n",
        "\n",
        "\n",
        "np.random.seed(42)\n",
        "\n",
        "n_steps = 365\n",
        "series = generate_time_series(2, n_steps + 1)\n",
        "\n",
        "\n",
        "X_train, y_train = series[:1, :n_steps], series[:1, -1]\n",
        "X_valid, y_valid = series[1:2, :n_steps], series[1:2, -1]\n",
        "X_test, y_test = series[2:, :n_steps], series[2:, -1]\n",
        "\n",
        "print(X_train)"
      ],
      "execution_count": 0,
      "outputs": [
        {
          "output_type": "stream",
          "text": [
            "[[0.37454012]\n",
            " [0.95071431]]\n",
            "[[[-0.59067315]\n",
            "  [-0.5971769 ]\n",
            "  [-0.68082255]\n",
            "  [-0.5984207 ]\n",
            "  [-0.62228507]\n",
            "  [-0.69197   ]\n",
            "  [-0.70023996]\n",
            "  [-0.70284885]\n",
            "  [-0.6911013 ]\n",
            "  [-0.6669936 ]\n",
            "  [-0.6718802 ]\n",
            "  [-0.67928904]\n",
            "  [-0.6383812 ]\n",
            "  [-0.6746884 ]\n",
            "  [-0.6465244 ]\n",
            "  [-0.6243591 ]\n",
            "  [-0.59893656]\n",
            "  [-0.5480128 ]\n",
            "  [-0.58714366]\n",
            "  [-0.53502476]\n",
            "  [-0.5054688 ]\n",
            "  [-0.53742504]\n",
            "  [-0.4579488 ]\n",
            "  [-0.4777344 ]\n",
            "  [-0.46399218]\n",
            "  [-0.3511212 ]\n",
            "  [-0.32493243]\n",
            "  [-0.31628206]\n",
            "  [-0.34258747]\n",
            "  [-0.3396626 ]\n",
            "  [-0.2579856 ]\n",
            "  [-0.260105  ]\n",
            "  [-0.27048302]\n",
            "  [-0.2127018 ]\n",
            "  [-0.23937713]\n",
            "  [-0.1336283 ]\n",
            "  [-0.18164414]\n",
            "  [-0.12550382]\n",
            "  [-0.14613037]\n",
            "  [-0.11217557]\n",
            "  [-0.09773609]\n",
            "  [-0.12348323]\n",
            "  [-0.03588626]\n",
            "  [-0.04748484]\n",
            "  [-0.02442746]\n",
            "  [-0.02343441]\n",
            "  [-0.0487493 ]\n",
            "  [-0.01296608]\n",
            "  [-0.09380914]\n",
            "  [-0.08134432]\n",
            "  [-0.09536326]\n",
            "  [-0.06682784]\n",
            "  [-0.06036568]\n",
            "  [-0.0722301 ]\n",
            "  [-0.01673994]\n",
            "  [-0.06416036]\n",
            "  [-0.07179341]\n",
            "  [-0.04535457]\n",
            "  [-0.08481488]\n",
            "  [-0.01738023]\n",
            "  [-0.08811627]\n",
            "  [ 0.00599102]\n",
            "  [-0.01163885]\n",
            "  [-0.06409059]\n",
            "  [-0.0773464 ]\n",
            "  [ 0.0109573 ]\n",
            "  [ 0.00872411]\n",
            "  [ 0.02094154]\n",
            "  [ 0.03658912]\n",
            "  [-0.02026452]\n",
            "  [ 0.0225078 ]\n",
            "  [ 0.01403776]\n",
            "  [ 0.1059927 ]\n",
            "  [ 0.10065232]\n",
            "  [ 0.09141229]\n",
            "  [ 0.08597405]\n",
            "  [ 0.13322893]\n",
            "  [ 0.15828498]\n",
            "  [ 0.22337973]\n",
            "  [ 0.23972404]\n",
            "  [ 0.2910038 ]\n",
            "  [ 0.2764407 ]\n",
            "  [ 0.26858562]\n",
            "  [ 0.3556672 ]\n",
            "  [ 0.38827947]\n",
            "  [ 0.39615503]\n",
            "  [ 0.44474062]\n",
            "  [ 0.44424963]\n",
            "  [ 0.47379714]\n",
            "  [ 0.49017775]\n",
            "  [ 0.47493154]\n",
            "  [ 0.5070345 ]\n",
            "  [ 0.5219622 ]\n",
            "  [ 0.6035874 ]\n",
            "  [ 0.5909047 ]\n",
            "  [ 0.6280966 ]\n",
            "  [ 0.68387645]\n",
            "  [ 0.63191324]\n",
            "  [ 0.6597573 ]\n",
            "  [ 0.70378053]\n",
            "  [ 0.65829825]\n",
            "  [ 0.64792687]\n",
            "  [ 0.67157865]\n",
            "  [ 0.65862787]\n",
            "  [ 0.7328856 ]\n",
            "  [ 0.71564335]\n",
            "  [ 0.690607  ]\n",
            "  [ 0.7043997 ]\n",
            "  [ 0.685208  ]\n",
            "  [ 0.6087503 ]\n",
            "  [ 0.6623479 ]\n",
            "  [ 0.6078676 ]\n",
            "  [ 0.61347216]\n",
            "  [ 0.59921   ]\n",
            "  [ 0.51648897]\n",
            "  [ 0.46914503]\n",
            "  [ 0.45290682]\n",
            "  [ 0.44348744]\n",
            "  [ 0.45210654]\n",
            "  [ 0.42495283]\n",
            "  [ 0.30738178]\n",
            "  [ 0.32498905]\n",
            "  [ 0.28249446]\n",
            "  [ 0.2296047 ]\n",
            "  [ 0.18601115]\n",
            "  [ 0.17459236]\n",
            "  [ 0.20228432]\n",
            "  [ 0.10800702]\n",
            "  [ 0.09595706]\n",
            "  [ 0.08362723]\n",
            "  [ 0.01993974]\n",
            "  [ 0.05214731]\n",
            "  [ 0.02387151]\n",
            "  [-0.07316077]\n",
            "  [-0.0731062 ]\n",
            "  [-0.11567913]\n",
            "  [-0.13859554]\n",
            "  [-0.18302879]\n",
            "  [-0.14368871]\n",
            "  [-0.17057525]\n",
            "  [-0.23016024]\n",
            "  [-0.22018787]\n",
            "  [-0.16827786]\n",
            "  [-0.24455084]\n",
            "  [-0.26182848]\n",
            "  [-0.23366341]\n",
            "  [-0.1888986 ]\n",
            "  [-0.26677367]\n",
            "  [-0.22604917]\n",
            "  [-0.21826933]\n",
            "  [-0.27084672]\n",
            "  [-0.22111148]\n",
            "  [-0.25575945]\n",
            "  [-0.22733676]\n",
            "  [-0.2248148 ]\n",
            "  [-0.2319088 ]\n",
            "  [-0.273641  ]\n",
            "  [-0.19633421]\n",
            "  [-0.24513417]\n",
            "  [-0.2561992 ]\n",
            "  [-0.2688356 ]\n",
            "  [-0.2124338 ]\n",
            "  [-0.20304069]\n",
            "  [-0.2691829 ]\n",
            "  [-0.220543  ]\n",
            "  [-0.25096318]\n",
            "  [-0.21197677]\n",
            "  [-0.26301706]\n",
            "  [-0.21644135]\n",
            "  [-0.25309357]\n",
            "  [-0.20549041]\n",
            "  [-0.29397053]\n",
            "  [-0.28332135]\n",
            "  [-0.3169002 ]\n",
            "  [-0.24766499]\n",
            "  [-0.26529282]\n",
            "  [-0.34105474]\n",
            "  [-0.315513  ]\n",
            "  [-0.31518993]\n",
            "  [-0.35741687]\n",
            "  [-0.37649578]\n",
            "  [-0.42216372]\n",
            "  [-0.4541475 ]\n",
            "  [-0.39091486]\n",
            "  [-0.4076863 ]\n",
            "  [-0.45126116]\n",
            "  [-0.4970985 ]\n",
            "  [-0.5119315 ]\n",
            "  [-0.48936233]\n",
            "  [-0.4864419 ]\n",
            "  [-0.50056696]\n",
            "  [-0.52318096]\n",
            "  [-0.5474769 ]\n",
            "  [-0.6122521 ]\n",
            "  [-0.61182827]\n",
            "  [-0.54367435]\n",
            "  [-0.5765248 ]\n",
            "  [-0.63788354]\n",
            "  [-0.62820065]\n",
            "  [-0.569377  ]\n",
            "  [-0.63037604]\n",
            "  [-0.60768867]\n",
            "  [-0.55948824]\n",
            "  [-0.5334586 ]\n",
            "  [-0.5234389 ]\n",
            "  [-0.5499185 ]\n",
            "  [-0.48260128]\n",
            "  [-0.509388  ]\n",
            "  [-0.47775942]\n",
            "  [-0.41081804]\n",
            "  [-0.3937568 ]\n",
            "  [-0.3452539 ]\n",
            "  [-0.33420604]\n",
            "  [-0.3114066 ]\n",
            "  [-0.32577473]\n",
            "  [-0.26407564]\n",
            "  [-0.23900682]\n",
            "  [-0.2049648 ]\n",
            "  [-0.09524435]\n",
            "  [-0.11595479]\n",
            "  [-0.02851218]\n",
            "  [-0.01698541]\n",
            "  [ 0.03687236]\n",
            "  [ 0.0448232 ]\n",
            "  [ 0.08890396]\n",
            "  [ 0.11641812]\n",
            "  [ 0.12176123]\n",
            "  [ 0.20849738]\n",
            "  [ 0.19712515]\n",
            "  [ 0.20290199]\n",
            "  [ 0.29492456]\n",
            "  [ 0.27635005]\n",
            "  [ 0.37918514]\n",
            "  [ 0.4051693 ]\n",
            "  [ 0.4239504 ]\n",
            "  [ 0.3901468 ]\n",
            "  [ 0.3732683 ]\n",
            "  [ 0.48103276]\n",
            "  [ 0.4453625 ]\n",
            "  [ 0.5114128 ]\n",
            "  [ 0.52118415]\n",
            "  [ 0.51809734]\n",
            "  [ 0.46815857]\n",
            "  [ 0.4811428 ]\n",
            "  [ 0.52974147]\n",
            "  [ 0.4764776 ]\n",
            "  [ 0.46015507]\n",
            "  [ 0.49568102]\n",
            "  [ 0.52890867]\n",
            "  [ 0.49881765]\n",
            "  [ 0.47891137]\n",
            "  [ 0.42322934]\n",
            "  [ 0.46568665]\n",
            "  [ 0.4930891 ]\n",
            "  [ 0.39737162]\n",
            "  [ 0.42401615]\n",
            "  [ 0.44843906]\n",
            "  [ 0.42315164]\n",
            "  [ 0.40715596]\n",
            "  [ 0.39623594]\n",
            "  [ 0.35076374]\n",
            "  [ 0.3334274 ]\n",
            "  [ 0.37480792]\n",
            "  [ 0.36534992]\n",
            "  [ 0.3622777 ]\n",
            "  [ 0.35898116]\n",
            "  [ 0.3118094 ]\n",
            "  [ 0.30483907]\n",
            "  [ 0.32957205]\n",
            "  [ 0.3108706 ]\n",
            "  [ 0.31329787]\n",
            "  [ 0.32100633]\n",
            "  [ 0.3298407 ]\n",
            "  [ 0.2751133 ]\n",
            "  [ 0.2803649 ]\n",
            "  [ 0.25466093]\n",
            "  [ 0.30644068]\n",
            "  [ 0.256368  ]\n",
            "  [ 0.304211  ]\n",
            "  [ 0.3174031 ]\n",
            "  [ 0.29777384]\n",
            "  [ 0.33455202]\n",
            "  [ 0.2851021 ]\n",
            "  [ 0.29246455]\n",
            "  [ 0.37761635]\n",
            "  [ 0.33780167]\n",
            "  [ 0.3205633 ]\n",
            "  [ 0.36565217]\n",
            "  [ 0.3953422 ]\n",
            "  [ 0.3440349 ]\n",
            "  [ 0.38790107]\n",
            "  [ 0.33621463]\n",
            "  [ 0.33369058]\n",
            "  [ 0.38114902]\n",
            "  [ 0.38009998]\n",
            "  [ 0.38622782]\n",
            "  [ 0.38987303]\n",
            "  [ 0.4078768 ]\n",
            "  [ 0.35312942]\n",
            "  [ 0.3231287 ]\n",
            "  [ 0.3577721 ]\n",
            "  [ 0.2908204 ]\n",
            "  [ 0.29117358]\n",
            "  [ 0.23672572]\n",
            "  [ 0.21110816]\n",
            "  [ 0.28266174]\n",
            "  [ 0.24600706]\n",
            "  [ 0.20628043]\n",
            "  [ 0.15020289]\n",
            "  [ 0.09771587]\n",
            "  [ 0.06568094]\n",
            "  [ 0.04341521]\n",
            "  [ 0.04051329]\n",
            "  [ 0.02325025]\n",
            "  [-0.01682498]\n",
            "  [-0.09014917]\n",
            "  [-0.05843608]\n",
            "  [-0.11620902]\n",
            "  [-0.1707449 ]\n",
            "  [-0.20110184]\n",
            "  [-0.25612476]\n",
            "  [-0.30864525]\n",
            "  [-0.3324846 ]\n",
            "  [-0.3261014 ]\n",
            "  [-0.43320686]\n",
            "  [-0.45457715]\n",
            "  [-0.4917301 ]\n",
            "  [-0.52085006]\n",
            "  [-0.4662655 ]\n",
            "  [-0.50649154]\n",
            "  [-0.5525167 ]\n",
            "  [-0.6111462 ]\n",
            "  [-0.5905846 ]\n",
            "  [-0.6089543 ]\n",
            "  [-0.6532092 ]\n",
            "  [-0.6389951 ]\n",
            "  [-0.6519706 ]\n",
            "  [-0.63725114]\n",
            "  [-0.6399173 ]\n",
            "  [-0.7010805 ]\n",
            "  [-0.66796255]\n",
            "  [-0.64033073]\n",
            "  [-0.64784306]\n",
            "  [-0.60557705]\n",
            "  [-0.6163519 ]\n",
            "  [-0.65495896]\n",
            "  [-0.65138507]\n",
            "  [-0.5796816 ]\n",
            "  [-0.62518966]\n",
            "  [-0.5517686 ]\n",
            "  [-0.4975764 ]\n",
            "  [-0.51421875]\n",
            "  [-0.5121995 ]\n",
            "  [-0.4651945 ]\n",
            "  [-0.4616356 ]\n",
            "  [-0.43044168]\n",
            "  [-0.3681766 ]\n",
            "  [-0.40097895]\n",
            "  [-0.32084712]\n",
            "  [-0.3040772 ]\n",
            "  [-0.3530993 ]\n",
            "  [-0.3443704 ]\n",
            "  [-0.32055098]\n",
            "  [-0.308944  ]\n",
            "  [-0.28238332]]]\n"
          ],
          "name": "stdout"
        }
      ]
    },
    {
      "cell_type": "code",
      "metadata": {
        "id": "cZAjeFnQlTAa",
        "colab_type": "code",
        "outputId": "50925e97-b5fd-449c-dbb5-aabb7f34eac7",
        "colab": {
          "base_uri": "https://localhost:8080/",
          "height": 313
        }
      },
      "source": [
        "plot_series(X_train[0, :, 0], y_train[0, 0], None)\n",
        "plt.show()"
      ],
      "execution_count": 0,
      "outputs": [
        {
          "output_type": "display_data",
          "data": {
            "image/png": "[encoded data removed]",
            "text/plain": [
              "<Figure size 432x288 with 1 Axes>"
            ]
          },
          "metadata": {
            "tags": [],
            "needs_background": "light"
          }
        }
      ]
    },
    {
      "cell_type": "markdown",
      "metadata": {
        "id": "cK4YU8z7ICd_",
        "colab_type": "text"
      },
      "source": [
        "### Naive forecasting\n",
        "\n",
        "In a first step we use a naive approach: t=t+1.\n",
        "Hence, we assume no change from t to t+1."
      ]
    },
    {
      "cell_type": "code",
      "metadata": {
        "id": "oP7MEOo_GseI",
        "colab_type": "code",
        "outputId": "db368b1e-d80f-486a-9326-56a6454f88b9",
        "colab": {
          "base_uri": "https://localhost:8080/",
          "height": 55
        }
      },
      "source": [
        "y_pred = (X_valid[:,-1]) # t\n",
        "naive_mse = np.mean(keras.losses.mean_squared_error(y_valid, y_pred))\n",
        "\n",
        "print(\"Naive MSE: {}\".format(naive_mse))"
      ],
      "execution_count": 0,
      "outputs": [
        {
          "output_type": "stream",
          "text": [
            "Naive MSE: 0.0011687155347317457\n"
          ],
          "name": "stdout"
        }
      ]
    },
    {
      "cell_type": "markdown",
      "metadata": {
        "id": "SyrWcUmDKbpz",
        "colab_type": "text"
      },
      "source": [
        "### Deep RNN"
      ]
    },
    {
      "cell_type": "code",
      "metadata": {
        "id": "rOjynUd8Kbvu",
        "colab_type": "code",
        "outputId": "5964fc99-bc72-4566-f211-f9a7809fac71",
        "colab": {
          "base_uri": "https://localhost:8080/",
          "height": 776
        }
      },
      "source": [
        "np.random.seed(42)\n",
        "tf.random.set_seed(42)\n",
        "\n",
        "model = keras.models.Sequential([\n",
        "    keras.layers.SimpleRNN(20, return_sequences=True, input_shape=[None, 1]),\n",
        "    keras.layers.SimpleRNN(20),\n",
        "    keras.layers.Dense(1)\n",
        "])\n",
        "\n",
        "model.compile(loss=\"mse\", optimizer=\"adam\")\n",
        "\n",
        "history = model.fit(\n",
        "    X_train,\n",
        "    y_train,\n",
        "    epochs=20,\n",
        "    validation_data=(X_valid, y_valid))\n",
        "\n",
        "model.evaluate(X_valid, y_valid)"
      ],
      "execution_count": 0,
      "outputs": [
        {
          "output_type": "stream",
          "text": [
            "Epoch 1/20\n",
            "1/1 [==============================] - 0s 250ms/step - loss: 0.5087 - val_loss: 0.0723\n",
            "Epoch 2/20\n",
            "1/1 [==============================] - 0s 50ms/step - loss: 0.2819 - val_loss: 0.0822\n",
            "Epoch 3/20\n",
            "1/1 [==============================] - 0s 48ms/step - loss: 0.0620 - val_loss: 0.0920\n",
            "Epoch 4/20\n",
            "1/1 [==============================] - 0s 50ms/step - loss: 0.0213 - val_loss: 0.0894\n",
            "Epoch 5/20\n",
            "1/1 [==============================] - 0s 50ms/step - loss: 0.0928 - val_loss: 0.0811\n",
            "Epoch 6/20\n",
            "1/1 [==============================] - 0s 47ms/step - loss: 0.1051 - val_loss: 0.0699\n",
            "Epoch 7/20\n",
            "1/1 [==============================] - 0s 48ms/step - loss: 0.0751 - val_loss: 0.0566\n",
            "Epoch 8/20\n",
            "1/1 [==============================] - 0s 50ms/step - loss: 0.0319 - val_loss: 0.0428\n",
            "Epoch 9/20\n",
            "1/1 [==============================] - 0s 54ms/step - loss: 0.0046 - val_loss: 0.0306\n",
            "Epoch 10/20\n",
            "1/1 [==============================] - 0s 49ms/step - loss: 4.2118e-04 - val_loss: 0.0212\n",
            "Epoch 11/20\n",
            "1/1 [==============================] - 0s 54ms/step - loss: 0.0054 - val_loss: 0.0146\n",
            "Epoch 12/20\n",
            "1/1 [==============================] - 0s 54ms/step - loss: 0.0104 - val_loss: 0.0100\n",
            "Epoch 13/20\n",
            "1/1 [==============================] - 0s 59ms/step - loss: 0.0132 - val_loss: 0.0069\n",
            "Epoch 14/20\n",
            "1/1 [==============================] - 0s 53ms/step - loss: 0.0138 - val_loss: 0.0049\n",
            "Epoch 15/20\n",
            "1/1 [==============================] - 0s 49ms/step - loss: 0.0128 - val_loss: 0.0036\n",
            "Epoch 16/20\n",
            "1/1 [==============================] - 0s 49ms/step - loss: 0.0106 - val_loss: 0.0027\n",
            "Epoch 17/20\n",
            "1/1 [==============================] - 0s 48ms/step - loss: 0.0079 - val_loss: 0.0022\n",
            "Epoch 18/20\n",
            "1/1 [==============================] - 0s 56ms/step - loss: 0.0052 - val_loss: 0.0020\n",
            "Epoch 19/20\n",
            "1/1 [==============================] - 0s 49ms/step - loss: 0.0029 - val_loss: 0.0018\n",
            "Epoch 20/20\n",
            "1/1 [==============================] - 0s 49ms/step - loss: 0.0013 - val_loss: 0.0018\n",
            "1/1 [==============================] - 0s 2ms/step - loss: 0.0018\n"
          ],
          "name": "stdout"
        },
        {
          "output_type": "execute_result",
          "data": {
            "text/plain": [
              "0.0017706349026411772"
            ]
          },
          "metadata": {
            "tags": []
          },
          "execution_count": 111
        }
      ]
    },
    {
      "cell_type": "code",
      "metadata": {
        "id": "7kWUbOghONaP",
        "colab_type": "code",
        "outputId": "e19f426d-6257-4056-8b84-46149d7545e3",
        "colab": {
          "base_uri": "https://localhost:8080/",
          "height": 311
        }
      },
      "source": [
        "plot_learning_curves(history.history[\"loss\"], history.history[\"val_loss\"])\n",
        "plt.show()"
      ],
      "execution_count": 0,
      "outputs": [
        {
          "output_type": "display_data",
          "data": {
            "image/png": "[encoded data removed]",
            "text/plain": [
              "<Figure size 432x288 with 1 Axes>"
            ]
          },
          "metadata": {
            "tags": [],
            "needs_background": "light"
          }
        }
      ]
    },
    {
      "cell_type": "code",
      "metadata": {
        "id": "OK8gKHd7OREg",
        "colab_type": "code",
        "outputId": "631efc8c-f551-4729-a3d6-acc14bc04fe2",
        "colab": {
          "base_uri": "https://localhost:8080/",
          "height": 313
        }
      },
      "source": [
        "y_pred = model.predict(X_valid)\n",
        "plot_series(X_valid[0, :, 0], y_valid[0, 0], y_pred[0, 0])\n",
        "plt.show()"
      ],
      "execution_count": 0,
      "outputs": [
        {
          "output_type": "display_data",
          "data": {
            "image/png": "[encoded data removed]",
            "text/plain": [
              "<Figure size 432x288 with 1 Axes>"
            ]
          },
          "metadata": {
            "tags": [],
            "needs_background": "light"
          }
        }
      ]
    },
    {
      "cell_type": "markdown",
      "metadata": {
        "id": "rURKpwzFOWdw",
        "colab_type": "text"
      },
      "source": [
        "### Forecasting several steps ahead"
      ]
    },
    {
      "cell_type": "code",
      "metadata": {
        "id": "z15-Jp_oOZSU",
        "colab_type": "code",
        "outputId": "12ef409c-7d93-48f2-e30a-5657131f3bde",
        "colab": {
          "base_uri": "https://localhost:8080/",
          "height": 72
        }
      },
      "source": [
        "np.random.seed(43) # not 42, as it would give the first series in the train set\n",
        "\n",
        "series = generate_time_series(1, n_steps + 10)\n",
        "X_new, Y_new = series[:, :n_steps], series[:, n_steps:]\n",
        "X = X_new\n",
        "for step_ahead in range(10):\n",
        "    y_pred_one = model.predict(X[:, step_ahead:])[:, np.newaxis, :]\n",
        "    X = np.concatenate([X, y_pred_one], axis=1)\n",
        "\n",
        "Y_pred = X[:, n_steps:]\n",
        "\n",
        "Y_pred.shape"
      ],
      "execution_count": 0,
      "outputs": [
        {
          "output_type": "stream",
          "text": [
            "[[0.11505457]]\n"
          ],
          "name": "stdout"
        },
        {
          "output_type": "execute_result",
          "data": {
            "text/plain": [
              "(1, 10, 1)"
            ]
          },
          "metadata": {
            "tags": []
          },
          "execution_count": 114
        }
      ]
    },
    {
      "cell_type": "code",
      "metadata": {
        "id": "b0SfJW-AgprB",
        "colab_type": "code",
        "outputId": "904be5e4-e5bf-4ca7-ae70-7b82cb90f3c9",
        "colab": {
          "base_uri": "https://localhost:8080/",
          "height": 313
        }
      },
      "source": [
        "def plot_multiple_forecasts(X, Y, Y_pred):\n",
        "    n_steps = X.shape[1]\n",
        "    ahead = Y.shape[1]\n",
        "    plot_series(X[0, :, 0])\n",
        "    plt.plot(np.arange(n_steps, n_steps + ahead), Y[0, :, 0], \"ro-\", label=\"Actual\")\n",
        "    plt.plot(np.arange(n_steps, n_steps + ahead), Y_pred[0, :, 0], \"bx-\", label=\"Forecast\", markersize=10)\n",
        "    plt.axis([0, n_steps + ahead, -1, 1])\n",
        "    plt.legend(fontsize=14)\n",
        "\n",
        "plot_multiple_forecasts(X_new, Y_new, Y_pred)\n",
        "plt.show()"
      ],
      "execution_count": 0,
      "outputs": [
        {
          "output_type": "display_data",
          "data": {
            "image/png": "[encoded data removed]",
            "text/plain": [
              "<Figure size 432x288 with 1 Axes>"
            ]
          },
          "metadata": {
            "tags": [],
            "needs_background": "light"
          }
        }
      ]
    },
    {
      "cell_type": "markdown",
      "metadata": {
        "id": "0WjyLzA1hnJw",
        "colab_type": "text"
      },
      "source": [
        "# LSTM"
      ]
    },
    {
      "cell_type": "code",
      "metadata": {
        "id": "j9-kPvb1hqOh",
        "colab_type": "code",
        "outputId": "68d391b0-6092-49d3-8965-d90c37b57bba",
        "colab": {
          "base_uri": "https://localhost:8080/",
          "height": 864
        }
      },
      "source": [
        "np.random.seed(42)\n",
        "tf.random.set_seed(42)\n",
        "\n",
        "np.random.seed(42)\n",
        "\n",
        "n_steps = 50\n",
        "series = generate_time_series(10000, n_steps + 10)\n",
        "X_train = series[:7000, :n_steps]\n",
        "X_valid = series[7000:9000, :n_steps]\n",
        "X_test = series[9000:, :n_steps]\n",
        "Y = np.empty((10000, n_steps, 10))\n",
        "for step_ahead in range(1, 10 + 1):\n",
        "    Y[..., step_ahead - 1] = series[..., step_ahead:step_ahead + n_steps, 0]\n",
        "Y_train = Y[:7000]\n",
        "Y_valid = Y[7000:9000]\n",
        "Y_test = Y[9000:]\n",
        "\n",
        "def last_time_step_mse(Y_true, Y_pred):\n",
        "    return keras.metrics.mean_squared_error(Y_true[:, -1], Y_pred[:, -1])\n",
        "\n",
        "model = keras.models.Sequential([\n",
        "    keras.layers.LSTM(20, return_sequences=True, input_shape=[None, 1]),\n",
        "    keras.layers.LSTM(20, return_sequences=True),\n",
        "    keras.layers.TimeDistributed(keras.layers.Dense(10))\n",
        "])\n",
        "\n",
        "model.compile(loss=\"mse\", optimizer=\"adam\", metrics=[last_time_step_mse])\n",
        "\n",
        "history = model.fit(X_train, Y_train, epochs=20,\n",
        "                    validation_data=(X_valid, Y_valid))"
      ],
      "execution_count": 0,
      "outputs": [
        {
          "output_type": "stream",
          "text": [
            "[[0.37454012]\n",
            " [0.95071431]\n",
            " [0.73199394]\n",
            " ...\n",
            " [0.94670792]\n",
            " [0.39748799]\n",
            " [0.2171404 ]]\n",
            "Epoch 1/20\n",
            "219/219 [==============================] - 9s 42ms/step - loss: 0.0760 - last_time_step_mse: 0.0615 - val_loss: 0.0553 - val_last_time_step_mse: 0.0364\n",
            "Epoch 2/20\n",
            "219/219 [==============================] - 9s 39ms/step - loss: 0.0480 - last_time_step_mse: 0.0283 - val_loss: 0.0427 - val_last_time_step_mse: 0.0222\n",
            "Epoch 3/20\n",
            "219/219 [==============================] - 9s 40ms/step - loss: 0.0391 - last_time_step_mse: 0.0181 - val_loss: 0.0367 - val_last_time_step_mse: 0.0157\n",
            "Epoch 4/20\n",
            "219/219 [==============================] - 9s 39ms/step - loss: 0.0350 - last_time_step_mse: 0.0151 - val_loss: 0.0334 - val_last_time_step_mse: 0.0132\n",
            "Epoch 5/20\n",
            "219/219 [==============================] - 8s 39ms/step - loss: 0.0325 - last_time_step_mse: 0.0133 - val_loss: 0.0313 - val_last_time_step_mse: 0.0121\n",
            "Epoch 6/20\n",
            "219/219 [==============================] - 9s 40ms/step - loss: 0.0308 - last_time_step_mse: 0.0122 - val_loss: 0.0297 - val_last_time_step_mse: 0.0112\n",
            "Epoch 7/20\n",
            "219/219 [==============================] - 9s 39ms/step - loss: 0.0297 - last_time_step_mse: 0.0118 - val_loss: 0.0291 - val_last_time_step_mse: 0.0120\n",
            "Epoch 8/20\n",
            "219/219 [==============================] - 9s 39ms/step - loss: 0.0286 - last_time_step_mse: 0.0109 - val_loss: 0.0278 - val_last_time_step_mse: 0.0099\n",
            "Epoch 9/20\n",
            "219/219 [==============================] - 9s 40ms/step - loss: 0.0280 - last_time_step_mse: 0.0108 - val_loss: 0.0278 - val_last_time_step_mse: 0.0113\n",
            "Epoch 10/20\n",
            "219/219 [==============================] - 9s 40ms/step - loss: 0.0273 - last_time_step_mse: 0.0105 - val_loss: 0.0268 - val_last_time_step_mse: 0.0101\n",
            "Epoch 11/20\n",
            "219/219 [==============================] - 9s 40ms/step - loss: 0.0269 - last_time_step_mse: 0.0102 - val_loss: 0.0263 - val_last_time_step_mse: 0.0096\n",
            "Epoch 12/20\n",
            "219/219 [==============================] - 9s 40ms/step - loss: 0.0264 - last_time_step_mse: 0.0101 - val_loss: 0.0263 - val_last_time_step_mse: 0.0105\n",
            "Epoch 13/20\n",
            "219/219 [==============================] - 9s 40ms/step - loss: 0.0259 - last_time_step_mse: 0.0097 - val_loss: 0.0257 - val_last_time_step_mse: 0.0100\n",
            "Epoch 14/20\n",
            "219/219 [==============================] - 9s 40ms/step - loss: 0.0257 - last_time_step_mse: 0.0096 - val_loss: 0.0252 - val_last_time_step_mse: 0.0091\n",
            "Epoch 15/20\n",
            "219/219 [==============================] - 9s 40ms/step - loss: 0.0253 - last_time_step_mse: 0.0095 - val_loss: 0.0251 - val_last_time_step_mse: 0.0092\n",
            "Epoch 16/20\n",
            "219/219 [==============================] - 9s 39ms/step - loss: 0.0251 - last_time_step_mse: 0.0095 - val_loss: 0.0248 - val_last_time_step_mse: 0.0089\n",
            "Epoch 17/20\n",
            "219/219 [==============================] - 9s 39ms/step - loss: 0.0248 - last_time_step_mse: 0.0094 - val_loss: 0.0248 - val_last_time_step_mse: 0.0098\n",
            "Epoch 18/20\n",
            "219/219 [==============================] - 9s 39ms/step - loss: 0.0245 - last_time_step_mse: 0.0093 - val_loss: 0.0246 - val_last_time_step_mse: 0.0091\n",
            "Epoch 19/20\n",
            "219/219 [==============================] - 9s 40ms/step - loss: 0.0242 - last_time_step_mse: 0.0091 - val_loss: 0.0238 - val_last_time_step_mse: 0.0085\n",
            "Epoch 20/20\n",
            "219/219 [==============================] - 9s 40ms/step - loss: 0.0239 - last_time_step_mse: 0.0089 - val_loss: 0.0238 - val_last_time_step_mse: 0.0086\n"
          ],
          "name": "stdout"
        }
      ]
    },
    {
      "cell_type": "code",
      "metadata": {
        "id": "8KxsgjXFitiZ",
        "colab_type": "code",
        "outputId": "1beb81b1-ff11-4240-e1f2-008db97c2cb1",
        "colab": {
          "base_uri": "https://localhost:8080/",
          "height": 313
        }
      },
      "source": [
        "np.random.seed(43)\n",
        "\n",
        "series = generate_time_series(1, 50 + 10)\n",
        "X_new, Y_new = series[:, :50, :], series[:, 50:, :]\n",
        "Y_pred = model.predict(X_new)[:, -1][..., np.newaxis]\n",
        "\n",
        "plot_multiple_forecasts(X_new, Y_new, Y_pred)\n",
        "plt.show()"
      ],
      "execution_count": 0,
      "outputs": [
        {
          "output_type": "display_data",
          "data": {
            "image/png": "[encoded data removed]",
            "text/plain": [
              "<Figure size 432x288 with 1 Axes>"
            ]
          },
          "metadata": {
            "tags": [],
            "needs_background": "light"
          }
        }
      ]
    },
    {
      "cell_type": "markdown",
      "metadata": {
        "id": "DUl1tNVJ_IdA",
        "colab_type": "text"
      },
      "source": [
        ""
      ]
    }
  ]
}