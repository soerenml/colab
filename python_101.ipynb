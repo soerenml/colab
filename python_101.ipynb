{
  "nbformat": 4,
  "nbformat_minor": 0,
  "metadata": {
    "colab": {
      "name": "python 101.ipynb",
      "provenance": [],
      "collapsed_sections": [],
      "authorship_tag": "ABX9TyPrYJeB1EMEYBgLuHmp1Vr0",
      "include_colab_link": true
    },
    "kernelspec": {
      "name": "python3",
      "display_name": "Python 3"
    }
  },
  "cells": [
    {
      "cell_type": "markdown",
      "metadata": {
        "id": "view-in-github",
        "colab_type": "text"
      },
      "source": [
        "<a href=\"https://colab.research.google.com/github/soerenml/colab/blob/master/python_101.ipynb\" target=\"_parent\"><img src=\"https://colab.research.google.com/assets/colab-badge.svg\" alt=\"Open In Colab\"/></a>"
      ]
    },
    {
      "cell_type": "markdown",
      "metadata": {
        "id": "gMDOUnhart1z",
        "colab_type": "text"
      },
      "source": [
        "# A quick introduction to Python\n",
        "\n",
        "The following content is based on Erc Matthe's book, 'Python crash course' from 2016."
      ]
    },
    {
      "cell_type": "markdown",
      "metadata": {
        "id": "LY37nKgTrl8x",
        "colab_type": "text"
      },
      "source": [
        "## Lists\n",
        "\n",
        "Lists contain data (string, int etc.) in an ordered manner.\n",
        "\n",
        "List are using brackets: <code>[]</code>\n"
      ]
    },
    {
      "cell_type": "markdown",
      "metadata": {
        "id": "kYH5wpWTsf_N",
        "colab_type": "text"
      },
      "source": [
        "### Creation and selection"
      ]
    },
    {
      "cell_type": "code",
      "metadata": {
        "id": "v86ABPN7rh-D",
        "colab_type": "code",
        "colab": {
          "base_uri": "https://localhost:8080/",
          "height": 102
        },
        "outputId": "34a80d23-3db9-4ab3-a5de-0b38db5fe3a3"
      },
      "source": [
        "# Create a list\n",
        "numbers = ['zero', 'one', 'two', 'N']\n",
        "print(numbers)\n",
        "\n",
        "# Select part of a list\n",
        "print(numbers[1])\n",
        "\n",
        "# The last item can always be accessed via -1\n",
        "print(numbers[-1])\n",
        "\n",
        "# Slicing a list\n",
        "print(numbers[0:3])\n",
        "\n",
        "# Length of a list\n",
        "print(len(numbers))"
      ],
      "execution_count": 1,
      "outputs": [
        {
          "output_type": "stream",
          "text": [
            "['zero', 'one', 'two', 'N']\n",
            "one\n",
            "N\n",
            "['zero', 'one', 'two']\n",
            "4\n"
          ],
          "name": "stdout"
        }
      ]
    },
    {
      "cell_type": "markdown",
      "metadata": {
        "id": "pTbwGEUMst9m",
        "colab_type": "text"
      },
      "source": [
        "### Altering a list"
      ]
    },
    {
      "cell_type": "code",
      "metadata": {
        "id": "iT_zF6Aass6d",
        "colab_type": "code",
        "colab": {
          "base_uri": "https://localhost:8080/",
          "height": 102
        },
        "outputId": "3042a2cd-84f9-40e8-dc1b-05607f111f1c"
      },
      "source": [
        "# Alter a specific element\n",
        "numbers[3] = 'last_item'\n",
        "print(numbers)\n",
        "\n",
        "# Adding elements to the list\n",
        "numbers.append('last_item+1')\n",
        "print(numbers)\n",
        "\n",
        "# Insert element into a specific position.\n",
        "numbers.insert(0, 'zero-1')\n",
        "print(numbers)\n",
        "\n",
        "# Delete a number from a list.\n",
        "del numbers[0]\n",
        "print(numbers)\n",
        "\n",
        "# Remove item by value.\n",
        "numbers.remove('last_item+1')\n",
        "print(numbers)"
      ],
      "execution_count": 2,
      "outputs": [
        {
          "output_type": "stream",
          "text": [
            "['zero', 'one', 'two', 'last_item']\n",
            "['zero', 'one', 'two', 'last_item', 'last_item+1']\n",
            "['zero-1', 'zero', 'one', 'two', 'last_item', 'last_item+1']\n",
            "['zero', 'one', 'two', 'last_item', 'last_item+1']\n",
            "['zero', 'one', 'two', 'last_item']\n"
          ],
          "name": "stdout"
        }
      ]
    },
    {
      "cell_type": "markdown",
      "metadata": {
        "id": "aqQqye7Ys9CI",
        "colab_type": "text"
      },
      "source": [
        "### Sorting a list\n",
        "\n",
        "<code> .sort() </code> is non temporary. To make sorts temorary use <code> .sorted() </code>."
      ]
    },
    {
      "cell_type": "code",
      "metadata": {
        "id": "mKSK0UmJs_an",
        "colab_type": "code",
        "colab": {
          "base_uri": "https://localhost:8080/",
          "height": 85
        },
        "outputId": "b279a179-b27c-4c1c-c578-bb4fdc5be7b4"
      },
      "source": [
        "# Sorting\n",
        "numbers.sort()\n",
        "print(numbers)\n",
        "\n",
        "# Reverse sorting.\n",
        "numbers.sort(reverse=True)\n",
        "print(numbers)\n",
        "\n",
        "numbers = ['zero', 'one', 'two', 'N']\n",
        "\n",
        "print(\n",
        "\t'Sorted: ' +str(sorted(numbers))\n",
        "\t)\n",
        "\n",
        "print(\n",
        "\t'Sorted reverse: '\n",
        "\t+str(sorted(numbers, reverse=True)))"
      ],
      "execution_count": 3,
      "outputs": [
        {
          "output_type": "stream",
          "text": [
            "['last_item', 'one', 'two', 'zero']\n",
            "['zero', 'two', 'one', 'last_item']\n",
            "Sorted: ['N', 'one', 'two', 'zero']\n",
            "Sorted reverse: ['zero', 'two', 'one', 'N']\n"
          ],
          "name": "stdout"
        }
      ]
    },
    {
      "cell_type": "markdown",
      "metadata": {
        "id": "qUzEs8m7tyAY",
        "colab_type": "text"
      },
      "source": [
        "### Loops"
      ]
    },
    {
      "cell_type": "code",
      "metadata": {
        "id": "SGYdM2sctoT5",
        "colab_type": "code",
        "colab": {
          "base_uri": "https://localhost:8080/",
          "height": 102
        },
        "outputId": "eafb2f2e-4600-48ae-e28b-7d5c406664c2"
      },
      "source": [
        "# Print all objects in list 'numbers' \n",
        "for i in numbers:\n",
        "\tprint(i)\n",
        " \n",
        "# Create a new list with a loop\n",
        "test = [z for z in numbers]\n",
        "print(test)"
      ],
      "execution_count": 6,
      "outputs": [
        {
          "output_type": "stream",
          "text": [
            "zero\n",
            "one\n",
            "two\n",
            "N\n",
            "['zero', 'one', 'two', 'N']\n"
          ],
          "name": "stdout"
        }
      ]
    }
  ]
}